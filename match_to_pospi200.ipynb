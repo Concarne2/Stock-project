{
 "cells": [
  {
   "cell_type": "code",
   "execution_count": 1,
   "metadata": {},
   "outputs": [],
   "source": [
    "import pandas as pd\n",
    "import numpy as np\n",
    "import os"
   ]
  },
  {
   "cell_type": "code",
   "execution_count": 2,
   "metadata": {},
   "outputs": [],
   "source": [
    "path_dir = \"./newdata\"\n",
    "data_list = os.listdir(path_dir)\n",
    "data_list\n",
    "dit = dict()"
   ]
  },
  {
   "cell_type": "code",
   "execution_count": 3,
   "metadata": {},
   "outputs": [],
   "source": [
    "for file in data_list[:-1]:\n",
    "    df = pd.read_csv(\"./newdata/\"+file)\n",
    "    cospi_200 = df[\"종목명.1\"][:200].values\n",
    "    \n",
    "    for cospi in cospi_200:\n",
    "        dit[cospi] = 1\n",
    "    df_200 = df.loc[df[\"종목명\"].isin(cospi_200)]\n",
    "    filename = file.split(\".\")[0] + \".xlsx\"\n",
    "    df_200.to_excel(\"kospi200_\"+ filename)\n",
    "\n"
   ]
  },
  {
   "cell_type": "code",
   "execution_count": 4,
   "metadata": {},
   "outputs": [
    {
     "data": {
      "text/plain": [
       "272"
      ]
     },
     "execution_count": 4,
     "metadata": {},
     "output_type": "execute_result"
    }
   ],
   "source": [
    "len(dit.keys())"
   ]
  },
  {
   "cell_type": "code",
   "execution_count": 5,
   "metadata": {},
   "outputs": [],
   "source": [
    "df = pd.read_csv(\"./newdata/N_20191126.csv\")\n",
    "df.loc[df[\"종목코드\"].isin(cospi_200)]\n",
    "cospi_200 = df[\"종목코드.1\"][:200].values"
   ]
  },
  {
   "cell_type": "code",
   "execution_count": 6,
   "metadata": {
    "scrolled": false
   },
   "outputs": [],
   "source": [
    "cospi_200 = df[\"종목코드.1\"][:200].values\n",
    "for cospi in cospi_200:\n",
    "    dit[cospi] = 1\n",
    "df_200 = df.loc[df[\"종목명\"].isin(cospi_200)]\n",
    "df_200.to_excel(\"kospi200_N_20191126.xlsx\",sheet_name='sheet1')\n",
    "#df_200"
   ]
  },
  {
   "cell_type": "code",
   "execution_count": 7,
   "metadata": {},
   "outputs": [
    {
     "data": {
      "text/plain": [
       "831"
      ]
     },
     "execution_count": 7,
     "metadata": {},
     "output_type": "execute_result"
    }
   ],
   "source": [
    "len(dit.keys())*3"
   ]
  },
  {
   "cell_type": "code",
   "execution_count": 8,
   "metadata": {},
   "outputs": [],
   "source": [
    "df = pd.read_excel(\"all.xlsx\")"
   ]
  },
  {
   "cell_type": "code",
   "execution_count": 9,
   "metadata": {},
   "outputs": [],
   "source": [
    "df_200 = df.loc[df[\"종목명\"].isin(dit.keys())]"
   ]
  },
  {
   "cell_type": "code",
   "execution_count": 10,
   "metadata": {},
   "outputs": [],
   "source": [
    "df_200.to_excel(\"all_200.xlsx\")"
   ]
  },
  {
   "cell_type": "code",
   "execution_count": 11,
   "metadata": {},
   "outputs": [
    {
     "data": {
      "text/plain": [
       "dict_keys(['CJ', 'CJ대한통운', 'GS리테일', 'KCC', 'LG', 'LG상사', 'LG이노텍', 'LS', 'LS산전', 'NH투자증권', 'OCI', 'POSCO', 'S&T중공업', 'S-Oil', 'SK네트웍스', 'SK케미칼', 'SK하이닉스', '경방', '고려아연', '고려제강', '광동제약', '국도화학', '기아차', '남양유업', '넥센타이어', '녹십자', '농심', '대덕전자', '대림산업', '대상', '대우증권', '대한유화', '대한항공', '동국제강', '동부화재', '동아쏘시오홀딩스', '동아타이어', '두산', '롯데제과', '롯데칠성', '롯데케미칼', '롯데푸드', '모토닉', '무림P&P', '부광약품', '빙그레', '삼광글라스', '삼립식품', '삼성SDI', '삼성전기', '삼성전자', '삼성정밀화학', '삼성중공업', '삼성화재', '삼양홀딩스', '서연', '서흥', '세방전지', '세아베스틸', '세아제강', '신세계', '쌍용양회', '쌍용차', '아모레G', '아이에스동서', '에스엘', '영진약품', '영풍', '오뚜기', '오리온', '우리은행', '유한양행', '일동제약', '일신방직', '일양약품', '조광피혁', '조선내화', '크라운제과', '태광산업', '하이트진로', '하이트진로홀딩스', '한국쉘석유', '한국타이어월드와이드', '한샘', '한솔테크닉스', '한솔홀딩스', '한일시멘트', '한화', '한화케미칼', '현대건설', '현대그린푸드', '현대미포조선', '현대상선', '현대제철', '현대중공업', '현대증권', '현대차', '호텔신라', '화신', '효성', 'BNK금융지주', 'CJ제일제당', 'GKL', 'GS', 'KB금융', 'KT', 'KT&G', 'LF', 'LG디스플레이', 'LG생명과학', 'LG생활건강', 'LG유플러스', 'LG전자', 'LG하우시스', 'LG화학', 'NAVER', 'S&T모티브', 'SBS', 'SK', 'SKC', 'SK이노베이션', 'SK텔레콤', '강원랜드', '금호석유', '금호타이어', '기업은행', '남해화학', '대교', '대우건설', '대우인터내셔널', '대우조선해양', '대웅제약', '동아에스티', '동원F&B', '동원시스템즈', '두산엔진', '두산인프라코어', '두산중공업', '락앤락', '롯데쇼핑', '무학', '미래에셋증권', '베이직하우스', '삼성물산', '삼성생명', '삼성에스디에스', '삼성엔지니어링', '삼성증권', '삼성카드', '삼양사', '세종공업', '신도리코', '신한지주', '아모레퍼시픽', '에스원', '에이블씨엔씨', '엔씨소프트', '영원무역', '유니드', '이마트', '일진머티리얼즈', '제일기획', '종근당', '코스맥스', '코오롱인더', '코웨이', '팜스코', '풍산', '하나금융지주', '한국가스공사', '한국금융지주', '한국단자', '한국전력', '한국철강', '한국콜마', '한국타이어', '한국항공우주', '한라홀딩스', '한미반도체', '한미약품', '한섬', '한세실업', '한솔케미칼', '한온시스템', '한전KPS', '한전기술', '한진중공업', '한화생명', '한화테크윈', '현대글로비스', '현대로템', '현대리바트', '현대모비스', '현대백화점', '현대산업', '현대엘리베이', '현대위아', '후성', '휴비스', '휴켐스', '대덕GDS', '대원강업', '도레이케미칼', '동부하이텍', '송원산업', '이수화학', '카프로', '코리아써키트', '현대하이스코', 'SK C&C', '디와이', '삼성테크윈', '일진디스플', '자화전자', '제일모직', '퍼시스', '포스코플랜텍', '한라비스테온공조', 'JW중외제약', '동양', '롯데정밀화학', '미래에셋대우', '벽산', '보령제약', '일동홀딩스', '제일약품', '한미사이언스', '한올바이오파마', '현대해상', 'BGF리테일', '만도', '쿠쿠전자', '포스코대우', '현대홈쇼핑', 'AK홀딩스', 'DB손해보험', 'DB하이텍', 'GS건설', 'SPC삼립', '녹십자홀딩스', '디티알오토모티브', '롯데지주', '메리츠종금증권', '오리온홀딩스', 'CJ CGV', 'JW홀딩스', 'LIG넥스원', '넷마블게임즈', '동서', '삼성바이오로직스', '이노션', '카카오', '팬오션', '현대로보틱스', 'SK디스커버리', '한화에어로스페이스', 'BGF', '넷마블', '셀트리온', '쿠쿠홀딩스', '현대중공업지주', 'HDC', '한일홀딩스', 'HDC현대산업개발', '두산밥캣', '롯데하이마트', '한국테크놀로지그룹', '우리금융지주', '웅진코웨이', '포스코인터내셔널', '한국타이어앤테크놀로지', '효성중공업', '한국조선해양', '한일현대시멘트', '신세계인터내셔날', '애경산업', '휠라코리아'])"
      ]
     },
     "execution_count": 11,
     "metadata": {},
     "output_type": "execute_result"
    }
   ],
   "source": [
    "dit.keys()"
   ]
  },
  {
   "cell_type": "code",
   "execution_count": null,
   "metadata": {},
   "outputs": [],
   "source": []
  }
 ],
 "metadata": {
  "kernelspec": {
   "display_name": "Python 3",
   "language": "python",
   "name": "python3"
  },
  "language_info": {
   "codemirror_mode": {
    "name": "ipython",
    "version": 3
   },
   "file_extension": ".py",
   "mimetype": "text/x-python",
   "name": "python",
   "nbconvert_exporter": "python",
   "pygments_lexer": "ipython3",
   "version": "3.7.3"
  }
 },
 "nbformat": 4,
 "nbformat_minor": 2
}
