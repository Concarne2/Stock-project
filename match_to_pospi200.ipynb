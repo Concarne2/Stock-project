{
 "cells": [
  {
   "cell_type": "code",
   "execution_count": 24,
   "metadata": {},
   "outputs": [],
   "source": [
    "import pandas as pd\n",
    "import numpy as np\n",
    "import os"
   ]
  },
  {
   "cell_type": "code",
   "execution_count": 25,
   "metadata": {},
   "outputs": [
    {
     "data": {
      "text/plain": [
       "200"
      ]
     },
     "execution_count": 25,
     "metadata": {},
     "output_type": "execute_result"
    }
   ],
   "source": [
    "# df_200 = df[df[\"종목명\"] == \"CJ\"]\n",
    "# df_200\n",
    "path_dir = \"./재무제표 (1)/\"\n",
    "file_list = os.listdir(path_dir)\n",
    "#df = pd.read_excel(\"./재무제표\")\n",
    "file_list\n",
    "len(file_list)"
   ]
  },
  {
   "cell_type": "code",
   "execution_count": 26,
   "metadata": {},
   "outputs": [
    {
     "name": "stdout",
     "output_type": "stream",
     "text": [
      "./재무제표 (1)/AK홀딩스.xlsx\n"
     ]
    }
   ],
   "source": [
    "df = pd.DataFrame()\n",
    "target = [\"자산\",\"부채\",\"자본\"]\n",
    "print(path_dir+file_list[0])"
   ]
  },
  {
   "cell_type": "code",
   "execution_count": null,
   "metadata": {},
   "outputs": [
    {
     "name": "stdout",
     "output_type": "stream",
     "text": [
      "AK홀딩스.xlsx\n",
      "BGF.xlsx\n",
      "BGF리테일.xlsx\n"
     ]
    },
    {
     "name": "stderr",
     "output_type": "stream",
     "text": [
      "C:\\Users\\yoon\\Anaconda3\\lib\\site-packages\\pandas\\core\\frame.py:6692: FutureWarning: Sorting because non-concatenation axis is not aligned. A future version\n",
      "of pandas will change to not sort by default.\n",
      "\n",
      "To accept the future behavior, pass 'sort=False'.\n",
      "\n",
      "To retain the current behavior and silence the warning, pass 'sort=True'.\n",
      "\n",
      "  sort=sort)\n"
     ]
    },
    {
     "name": "stdout",
     "output_type": "stream",
     "text": [
      "BNK금융지주.xlsx\n",
      "CJ.xlsx\n",
      "CJ_CGV.xlsx\n",
      "CJ대한통운.xlsx\n",
      "CJ제일제당.xlsx\n",
      "DB손해보험.xlsx\n",
      "DB하이텍.xlsx\n",
      "GKL.xlsx\n",
      "GS.xlsx\n",
      "GS건설.xlsx\n",
      "GS리테일.xlsx\n",
      "HDC.xlsx\n",
      "HDC현대산업개발.xlsx\n",
      "JW중외제약.xlsx\n",
      "JW홀딩스.xlsx\n",
      "KB금융.xlsx\n",
      "KCC.xlsx\n",
      "KT&G.xlsx\n",
      "KT.xlsx\n",
      "LF.xlsx\n",
      "LG.xlsx\n",
      "LG디스플레이.xlsx\n",
      "LG상사.xlsx\n",
      "LG생활건강.xlsx\n",
      "LG유플러스.xlsx\n",
      "LG이노텍.xlsx\n",
      "LG전자.xlsx\n",
      "LG하우시스.xlsx\n",
      "LG화학.xlsx\n",
      "LIG넥스원.xlsx\n",
      "LS.xlsx\n",
      "LS산전.xlsx\n",
      "NAVER.xlsx\n",
      "NH투자증권.xlsx\n",
      "OCI.xlsx\n",
      "POSCO.xlsx\n",
      "S&T모티브.xlsx\n",
      "S-Oil.xlsx\n",
      "SK.xlsx\n",
      "SKC.xlsx\n",
      "SK네트웍스.xlsx\n",
      "SK디스커버리.xlsx\n",
      "SK이노베이션.xlsx\n",
      "SK케미칼.xlsx\n",
      "SK텔레콤.xlsx\n",
      "SK하이닉스.xlsx\n",
      "SPC삼립.xlsx\n",
      "강원랜드.xlsx\n",
      "고려아연.xlsx\n",
      "고려제강.xlsx\n",
      "금호석유.xlsx\n",
      "금호타이어.xlsx\n",
      "기아차.xlsx\n",
      "기업은행.xlsx\n",
      "남양유업.xlsx\n",
      "남해화학.xlsx\n",
      "넥센타이어.xlsx\n",
      "넷마블.xlsx\n",
      "녹십자.xlsx\n",
      "녹십자홀딩스.xlsx\n",
      "농심.xlsx\n",
      "대교.xlsx\n",
      "대덕전자.xlsx\n",
      "대림산업.xlsx\n",
      "대상.xlsx\n",
      "대우건설.xlsx\n",
      "대우조선해양.xlsx\n",
      "대웅제약.xlsx\n",
      "대한유화.xlsx\n",
      "대한항공.xlsx\n",
      "동국제강.xlsx\n",
      "동서.xlsx\n",
      "동아쏘시오홀딩스.xlsx\n",
      "동아에스티.xlsx\n",
      "동양.xlsx\n",
      "동원F&B.xlsx\n",
      "동원시스템즈.xlsx\n",
      "두산.xlsx\n",
      "두산밥캣.xlsx\n",
      "두산인프라코어.xlsx\n",
      "두산중공업.xlsx\n",
      "락앤락.xlsx\n",
      "롯데쇼핑.xlsx\n",
      "롯데정밀화학.xlsx\n",
      "롯데지주.xlsx\n",
      "롯데칠성.xlsx\n",
      "롯데케미칼.xlsx\n",
      "롯데푸드.xlsx\n",
      "롯데하이마트.xlsx\n",
      "만도.xlsx\n",
      "메리츠종금증권.xlsx\n",
      "미래에셋대우.xlsx\n",
      "보령제약.xlsx\n",
      "부광약품.xlsx\n",
      "빙그레.xlsx\n",
      "삼성SDI.xlsx\n",
      "삼성물산.xlsx\n",
      "삼성바이오로직스.xlsx\n",
      "삼성생명.xlsx\n",
      "삼성에스디에스.xlsx\n",
      "삼성엔지니어링.xlsx\n",
      "삼성전기.xlsx\n",
      "삼성전자.xlsx\n",
      "삼성중공업.xlsx\n",
      "삼성증권.xlsx\n",
      "삼성카드.xlsx\n",
      "삼성화재.xlsx\n",
      "삼양사.xlsx\n",
      "삼양홀딩스.xlsx\n",
      "세방전지.xlsx\n",
      "세아베스틸.xlsx\n",
      "셀트리온.xlsx\n",
      "신세계.xlsx\n",
      "신세계인터내셔날.xlsx\n",
      "신한지주.xlsx\n",
      "쌍용양회.xlsx\n",
      "쌍용차.xlsx\n",
      "아모레G.xlsx\n",
      "아모레퍼시픽.xlsx\n",
      "아이에스동서.xlsx\n",
      "애경산업.xlsx\n",
      "에스엘.xlsx\n",
      "에스원.xlsx\n",
      "엔씨소프트.xlsx\n",
      "영원무역.xlsx\n",
      "영진약품.xlsx\n",
      "영풍.xlsx\n",
      "오뚜기.xlsx\n",
      "오리온.xlsx\n",
      "오리온홀딩스.xlsx\n",
      "우리금융지주.xlsx\n",
      "웅진코웨이.xlsx\n",
      "유니드.xlsx\n",
      "유한양행.xlsx\n",
      "이노션.xlsx\n",
      "이마트.xlsx\n",
      "일양약품.xlsx\n",
      "일진머티리얼즈.xlsx\n",
      "제일기획.xlsx\n",
      "종근당.xlsx\n",
      "카카오.xlsx\n",
      "코스맥스.xlsx\n",
      "코오롱인더.xlsx\n",
      "쿠쿠홀딩스.xlsx\n",
      "태광산업.xlsx\n",
      "팬오션.xlsx\n",
      "포스코인터내셔널.xlsx\n",
      "풍산.xlsx\n",
      "하나금융지주.xlsx\n",
      "하이트진로.xlsx\n",
      "한국가스공사.xlsx\n",
      "한국금융지주.xlsx\n",
      "한국단자.xlsx\n",
      "한국쉘석유.xlsx\n",
      "한국전력.xlsx\n",
      "한국조선해양.xlsx\n",
      "한국콜마.xlsx\n",
      "한국타이어앤테크놀로지.xlsx\n",
      "한국테크놀로지그룹.xlsx\n",
      "한국항공우주.xlsx\n",
      "한라홀딩스.xlsx\n",
      "한미사이언스.xlsx\n",
      "한미약품.xlsx\n",
      "한샘.xlsx\n",
      "한섬.xlsx\n",
      "한세실업.xlsx\n",
      "한솔케미칼.xlsx\n",
      "한온시스템.xlsx\n",
      "한올바이오파마.xlsx\n",
      "한일현대시멘트.xlsx\n",
      "한전KPS.xlsx\n",
      "한전기술.xlsx\n",
      "한화.xlsx\n",
      "한화생명.xlsx\n",
      "한화에어로스페이스.xlsx\n",
      "한화케미칼.xlsx\n",
      "현대건설.xlsx\n",
      "현대그린푸드.xlsx\n",
      "현대글로비스.xlsx\n",
      "현대로템.xlsx\n",
      "현대리바트.xlsx\n",
      "현대모비스.xlsx\n",
      "현대미포조선.xlsx\n",
      "현대백화점.xlsx\n"
     ]
    }
   ],
   "source": [
    "for file in file_list:\n",
    "    temp = pd.DataFrame()\n",
    "    try:\n",
    "        print(file)\n",
    "        temp = pd.read_excel(path_dir+file,header=8)\n",
    "        temp = temp.loc[temp[\"계정과목\"].isin(target)]\n",
    "        name = file.split(\".\")[0]\n",
    "        #print(name)\n",
    "        temp[\"종목명\"]= name\n",
    "        df = df.append(temp)\n",
    "    except:\n",
    "        print(file,\"is error\")\n",
    "        continue"
   ]
  },
  {
   "cell_type": "code",
   "execution_count": null,
   "metadata": {},
   "outputs": [],
   "source": [
    "df.to_excel(\"all.xlsx\")"
   ]
  },
  {
   "cell_type": "code",
   "execution_count": null,
   "metadata": {},
   "outputs": [],
   "source": [
    "path_dir = \"./newdata\"\n",
    "data_list = os.listdir(path_dir)\n",
    "data_list\n",
    "dit = dict()"
   ]
  },
  {
   "cell_type": "code",
   "execution_count": null,
   "metadata": {},
   "outputs": [],
   "source": [
    "for file in data_list[:-1]:\n",
    "    df = pd.read_csv(\"./newdata/\"+file)\n",
    "    cospi_200 = df[\"종목명.1\"][:200].values\n",
    "    \n",
    "    for cospi in cospi_200:\n",
    "        dit[cospi] = 1\n",
    "    df_200 = df.loc[df[\"종목명\"].isin(cospi_200)]\n",
    "    filename = file.split(\".\")[0] + \".xlsx\"\n",
    "    df_200.to_excel(\"kospi200_\"+ filename)\n",
    "\n"
   ]
  },
  {
   "cell_type": "code",
   "execution_count": null,
   "metadata": {},
   "outputs": [],
   "source": [
    "len(dit.keys())"
   ]
  },
  {
   "cell_type": "code",
   "execution_count": null,
   "metadata": {},
   "outputs": [],
   "source": [
    "df = pd.read_csv(\"./newdata/N_20191126.csv\")\n",
    "df.loc[df[\"종목코드\"].isin(cospi_200)]\n",
    "cospi_200 = df[\"종목코드.1\"][:200].values"
   ]
  },
  {
   "cell_type": "code",
   "execution_count": null,
   "metadata": {
    "scrolled": false
   },
   "outputs": [],
   "source": [
    "cospi_200 = df[\"종목코드.1\"][:200].values\n",
    "for cospi in cospi_200:\n",
    "    dit[cospi] = 1\n",
    "df_200 = df.loc[df[\"종목명\"].isin(cospi_200)]\n",
    "df_200.to_excel(\"kospi200_N_20191126.xlsx\",sheet_name='sheet1')\n",
    "#df_200"
   ]
  },
  {
   "cell_type": "code",
   "execution_count": null,
   "metadata": {},
   "outputs": [],
   "source": [
    "len(dit.keys())*3"
   ]
  },
  {
   "cell_type": "code",
   "execution_count": null,
   "metadata": {},
   "outputs": [],
   "source": [
    "df = pd.read_excel(\"all.xlsx\")"
   ]
  },
  {
   "cell_type": "code",
   "execution_count": null,
   "metadata": {},
   "outputs": [],
   "source": [
    "df_200 = df.loc[df[\"종목명\"].isin(dit.keys())]\n",
    "df_200"
   ]
  },
  {
   "cell_type": "code",
   "execution_count": null,
   "metadata": {},
   "outputs": [],
   "source": [
    "df_200.to_excel(\"all_200.xlsx\")"
   ]
  },
  {
   "cell_type": "code",
   "execution_count": null,
   "metadata": {},
   "outputs": [],
   "source": [
    "dit.keys()"
   ]
  },
  {
   "cell_type": "code",
   "execution_count": null,
   "metadata": {},
   "outputs": [],
   "source": []
  }
 ],
 "metadata": {
  "kernelspec": {
   "display_name": "Python 3",
   "language": "python",
   "name": "python3"
  },
  "language_info": {
   "codemirror_mode": {
    "name": "ipython",
    "version": 3
   },
   "file_extension": ".py",
   "mimetype": "text/x-python",
   "name": "python",
   "nbconvert_exporter": "python",
   "pygments_lexer": "ipython3",
   "version": "3.7.3"
  }
 },
 "nbformat": 4,
 "nbformat_minor": 2
}
