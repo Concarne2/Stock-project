{
 "cells": [
  {
   "cell_type": "code",
   "execution_count": 29,
   "metadata": {},
   "outputs": [],
   "source": [
    "import re\n",
    "import urllib.request\n",
    "from bs4 import BeautifulSoup\n",
    "import pandas as pd"
   ]
  },
  {
   "cell_type": "code",
   "execution_count": 1,
   "metadata": {},
   "outputs": [],
   "source": [
    "def search_url(title):\n",
    "    baseurl = 'https://search.naver.com/search.naver?sm=top_hty&fbm=1&ie=utf8&query='\n",
    "    url = baseurl + urllib.parse.quote_plus(title)\n",
    "    return url"
   ]
  },
  {
   "cell_type": "code",
   "execution_count": 11,
   "metadata": {},
   "outputs": [],
   "source": [
    "def get_ticker(url):\n",
    "    soup = BeautifulSoup(urllib.request.urlopen(url).read(), \"html.parser\")\n",
    "    div = soup.find(\"div\", class_ = \"company_intro _ellipsis _detail\")\n",
    "    herf = div.find(\"a\").get(\"href\")\n",
    "    ticker = re.findall(\"\\d+\", herf)[0] \n",
    "    return  ticker"
   ]
  },
  {
   "cell_type": "code",
   "execution_count": 12,
   "metadata": {},
   "outputs": [
    {
     "data": {
      "text/plain": [
       "'005930'"
      ]
     },
     "execution_count": 12,
     "metadata": {},
     "output_type": "execute_result"
    }
   ],
   "source": [
    "url = search_url(\"삼성전자\")\n",
    "get_ticker(url)"
   ]
  },
  {
   "cell_type": "code",
   "execution_count": 13,
   "metadata": {},
   "outputs": [
    {
     "name": "stdout",
     "output_type": "stream",
     "text": [
      "005930\n",
      "000660\n"
     ]
    }
   ],
   "source": [
    "com_list = [\"삼성전자\", \"sk하이닉스\"]\n",
    "for com in com_list:\n",
    "    url = search_url(com)\n",
    "    print(get_ticker(url))"
   ]
  },
  {
   "cell_type": "code",
   "execution_count": 25,
   "metadata": {},
   "outputs": [],
   "source": [
    "def get_info(ticker):\n",
    "    h_finance_url = \"https://finance.naver.com/item/main.nhn?code=\"\n",
    "    url = h_finance_url+ticker\n",
    "    soup = BeautifulSoup(urllib.request.urlopen(url).read(), \"html.parser\")\n",
    "    div = soup.find(\"div\",class_=\"description\")\n",
    "    suma_info = div.find(\"div\",class_=\"summary_info\")\n",
    "    return suma_info.text[5:]"
   ]
  },
  {
   "cell_type": "code",
   "execution_count": 27,
   "metadata": {},
   "outputs": [
    {
     "name": "stdout",
     "output_type": "stream",
     "text": [
      "한국 및 CE, IM부문 해외 9개 지역총괄과 DS부문 해외 5개 지역총괄, Harman 등 252개의 종속기업으로 구성된 글로벌 전자기업임.\n",
      "세트사업에는 TV, 냉장고 등을 생산하는 CE부문과 스마트폰, 네트워크시스템, 컴퓨터 등을 생산하는 IM부문이 있음.\n",
      "부품사업에서는 D램, 낸드 플래쉬, 모바일AP 등의 제품을 생산하는 반도체 사업과 TFT-LCD 및 OLED 디스플레이 패널을 생산하는 DP사업의 DS부문으로 구성됨.\n",
      "출처 : 에프앤가이드\n",
      "1949년 국도건설로 설립되어 1983년 현대전자로 상호 변경했고, 2001년 하이닉스반도체를 거쳐 2012년 최대주주가 SK텔레콤으로 바뀌면서 SK하이닉스로 상호를 변경함.\n",
      "주력 제품은 DRAM, 낸드플래시 등 메모리반도체임. 2018년 매출액 기준 세계 반도체 시장에서 차지하는 시장 점유율은 D램이 28.3%, 낸드플래시는 12.2%임.\n",
      "동사가 참여한 한미일 연합 컨소시엄이 인수한 도시바메모리는 2019년 중 IPO를 추진함.\n",
      "출처 : 에프앤가이드\n"
     ]
    }
   ],
   "source": [
    "tic_list = []\n",
    "for com in com_list:\n",
    "    url = search_url(com)\n",
    "    ticker = get_ticker(url)\n",
    "    print(get_info(ticker).strip())\n",
    "    tic_list.append(ticker)\n",
    "\n"
   ]
  },
  {
   "cell_type": "code",
   "execution_count": 40,
   "metadata": {},
   "outputs": [],
   "source": [
    "class Company:\n",
    "    def __init__(self,name, info):\n",
    "        self.name = name\n",
    "        self.info = info\n",
    "    def __str__(self):\n",
    "        return self.name+\"\\n\"+self.info"
   ]
  },
  {
   "cell_type": "code",
   "execution_count": 47,
   "metadata": {},
   "outputs": [],
   "source": [
    "def info_to_xlsx(com_list):\n",
    "    df = pd.DataFrame(columns = [\"종목명\",\"정보\"])\n",
    "    index = 0\n",
    "    for com in com_list:\n",
    "        url = search_url(com)\n",
    "        ticker = get_ticker(url)\n",
    "        #print(get_info(ticker).strip())\n",
    "        info = get_info(ticker)\n",
    "        df.loc[index] = [com,info]\n",
    "        index +=1\n",
    "    df.to_excel(\"company_info.xlsx\")\n",
    "    return df\n",
    "    \n",
    "        \n",
    "    "
   ]
  },
  {
   "cell_type": "code",
   "execution_count": 38,
   "metadata": {},
   "outputs": [
    {
     "data": {
      "text/html": [
       "<div>\n",
       "<style scoped>\n",
       "    .dataframe tbody tr th:only-of-type {\n",
       "        vertical-align: middle;\n",
       "    }\n",
       "\n",
       "    .dataframe tbody tr th {\n",
       "        vertical-align: top;\n",
       "    }\n",
       "\n",
       "    .dataframe thead th {\n",
       "        text-align: right;\n",
       "    }\n",
       "</style>\n",
       "<table border=\"1\" class=\"dataframe\">\n",
       "  <thead>\n",
       "    <tr style=\"text-align: right;\">\n",
       "      <th></th>\n",
       "      <th>종목명</th>\n",
       "      <th>정보</th>\n",
       "    </tr>\n",
       "  </thead>\n",
       "  <tbody>\n",
       "    <tr>\n",
       "      <th>0</th>\n",
       "      <td>삼성</td>\n",
       "      <td>if</td>\n",
       "    </tr>\n",
       "  </tbody>\n",
       "</table>\n",
       "</div>"
      ],
      "text/plain": [
       "  종목명  정보\n",
       "0  삼성  if"
      ]
     },
     "execution_count": 38,
     "metadata": {},
     "output_type": "execute_result"
    }
   ],
   "source": [
    "# df = pd.DataFrame(columns = [\"종목명\",\"정보\"])\n",
    "# df.loc[0] = [\"삼성\",\"if\"]\n",
    "# df"
   ]
  },
  {
   "cell_type": "code",
   "execution_count": 50,
   "metadata": {},
   "outputs": [
    {
     "data": {
      "text/html": [
       "<div>\n",
       "<style scoped>\n",
       "    .dataframe tbody tr th:only-of-type {\n",
       "        vertical-align: middle;\n",
       "    }\n",
       "\n",
       "    .dataframe tbody tr th {\n",
       "        vertical-align: top;\n",
       "    }\n",
       "\n",
       "    .dataframe thead th {\n",
       "        text-align: right;\n",
       "    }\n",
       "</style>\n",
       "<table border=\"1\" class=\"dataframe\">\n",
       "  <thead>\n",
       "    <tr style=\"text-align: right;\">\n",
       "      <th></th>\n",
       "      <th>종목명</th>\n",
       "      <th>정보</th>\n",
       "    </tr>\n",
       "  </thead>\n",
       "  <tbody>\n",
       "    <tr>\n",
       "      <th>0</th>\n",
       "      <td>삼성전자</td>\n",
       "      <td>\\n한국 및 CE, IM부문 해외 9개 지역총괄과 DS부문 해외 5개 지역총괄, H...</td>\n",
       "    </tr>\n",
       "    <tr>\n",
       "      <th>1</th>\n",
       "      <td>sk하이닉스</td>\n",
       "      <td>\\n1949년 국도건설로 설립되어 1983년 현대전자로 상호 변경했고, 2001년 ...</td>\n",
       "    </tr>\n",
       "    <tr>\n",
       "      <th>2</th>\n",
       "      <td>현대자동차</td>\n",
       "      <td>\\n동사는 1967년 12월에 설립되어 1974년 6월 28일에 유가증권시장에 상장...</td>\n",
       "    </tr>\n",
       "  </tbody>\n",
       "</table>\n",
       "</div>"
      ],
      "text/plain": [
       "      종목명                                                 정보\n",
       "0    삼성전자  \\n한국 및 CE, IM부문 해외 9개 지역총괄과 DS부문 해외 5개 지역총괄, H...\n",
       "1  sk하이닉스  \\n1949년 국도건설로 설립되어 1983년 현대전자로 상호 변경했고, 2001년 ...\n",
       "2   현대자동차  \\n동사는 1967년 12월에 설립되어 1974년 6월 28일에 유가증권시장에 상장..."
      ]
     },
     "execution_count": 50,
     "metadata": {},
     "output_type": "execute_result"
    }
   ],
   "source": [
    "com_list = [\"삼성전자\",\"sk하이닉스\",\"현대자동차\"]\n",
    "info_to_xlsx(com_list)"
   ]
  },
  {
   "cell_type": "code",
   "execution_count": null,
   "metadata": {},
   "outputs": [],
   "source": []
  },
  {
   "cell_type": "code",
   "execution_count": null,
   "metadata": {},
   "outputs": [],
   "source": []
  }
 ],
 "metadata": {
  "kernelspec": {
   "display_name": "Python 3",
   "language": "python",
   "name": "python3"
  },
  "language_info": {
   "codemirror_mode": {
    "name": "ipython",
    "version": 3
   },
   "file_extension": ".py",
   "mimetype": "text/x-python",
   "name": "python",
   "nbconvert_exporter": "python",
   "pygments_lexer": "ipython3",
   "version": "3.7.3"
  }
 },
 "nbformat": 4,
 "nbformat_minor": 2
}
